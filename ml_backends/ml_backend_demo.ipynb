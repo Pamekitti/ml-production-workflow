{
 "cells": [
  {
   "cell_type": "code",
   "execution_count": null,
   "metadata": {},
   "outputs": [],
   "source": [
    "import pickle\n",
    "import numpy as np"
   ]
  },
  {
   "cell_type": "markdown",
   "metadata": {},
   "source": [
    "# 1. Python model"
   ]
  },
  {
   "cell_type": "code",
   "execution_count": 1,
   "metadata": {},
   "outputs": [
    {
     "name": "stdout",
     "output_type": "stream",
     "text": [
      "Python model result: 10\n"
     ]
    }
   ],
   "source": [
    "def python_model(x):\n",
    "    # Simple example of a model function\n",
    "    return x * 2\n",
    "\n",
    "def run_python_model():\n",
    "    # Sample data\n",
    "    sample_data = 5\n",
    "    \n",
    "    # Inference\n",
    "    result = python_model(sample_data)\n",
    "    \n",
    "    print(f\"Python model result: {result}\")\n",
    "\n",
    "# Run the model\n",
    "run_python_model()"
   ]
  },
  {
   "cell_type": "markdown",
   "metadata": {},
   "source": [
    "# 2. Pickle model (sci-kit learn)"
   ]
  },
  {
   "cell_type": "code",
   "execution_count": 3,
   "metadata": {},
   "outputs": [
    {
     "name": "stdout",
     "output_type": "stream",
     "text": [
      "Model accuracy: 1.0\n",
      "Model saved to iris_model.pkl\n",
      "Scikit-learn Pickle model result: [0] (Label: ['setosa'])\n"
     ]
    }
   ],
   "source": [
    "import requests\n",
    "import pickle\n",
    "from sklearn.datasets import load_iris\n",
    "from sklearn.linear_model import LogisticRegression\n",
    "from sklearn.model_selection import train_test_split\n",
    "from sklearn.metrics import accuracy_score\n",
    "\n",
    "# Step 1: Train a simple LogisticRegression model on the Iris dataset\n",
    "def train_and_save_model():\n",
    "    # Load the dataset\n",
    "    iris = load_iris()\n",
    "    X, y = iris.data, iris.target\n",
    "\n",
    "    # Split into train and test sets\n",
    "    X_train, X_test, y_train, y_test = train_test_split(X, y, test_size=0.2, random_state=42)\n",
    "\n",
    "    # Initialize the model\n",
    "    model = LogisticRegression(max_iter=200)\n",
    "\n",
    "    # Fit the model on the training data\n",
    "    model.fit(X_train, y_train)\n",
    "\n",
    "    # Evaluate the model on the test data\n",
    "    y_pred = model.predict(X_test)\n",
    "    print(f\"Model accuracy: {accuracy_score(y_test, y_pred)}\")\n",
    "\n",
    "    # Save the trained model to disk using Pickle\n",
    "    with open('iris_model.pkl', 'wb') as file:\n",
    "        pickle.dump(model, file)\n",
    "\n",
    "    print(\"Model saved to iris_model.pkl\")\n",
    "\n",
    "# Step 2: Function to load the Pickle model and make a prediction\n",
    "def run_sklearn_pickle_model(model_path):\n",
    "    # Load the model from disk\n",
    "    with open(model_path, 'rb') as file:\n",
    "        model = pickle.load(file)\n",
    "    \n",
    "    # Create a sample data point (e.g., the first instance of the Iris dataset)\n",
    "    iris = load_iris()\n",
    "    sample_data = iris.data[0].reshape(1, -1)\n",
    "    \n",
    "    # Inference\n",
    "    result = model.predict(sample_data)\n",
    "    \n",
    "    print(f\"Scikit-learn Pickle model result: {result} (Label: {iris.target_names[result]})\")\n",
    "\n",
    "# Run the training and saving process\n",
    "train_and_save_model()\n",
    "\n",
    "# Path to the saved model file\n",
    "pickle_model_path = 'iris_model.pkl'\n",
    "run_sklearn_pickle_model(pickle_model_path)"
   ]
  },
  {
   "cell_type": "markdown",
   "metadata": {},
   "source": [
    "# 3. Torchscript model (PyTorch)"
   ]
  },
  {
   "cell_type": "code",
   "execution_count": null,
   "metadata": {},
   "outputs": [],
   "source": []
  },
  {
   "cell_type": "markdown",
   "metadata": {},
   "source": [
    "# 4. TensorFlow model"
   ]
  },
  {
   "cell_type": "code",
   "execution_count": null,
   "metadata": {},
   "outputs": [],
   "source": []
  },
  {
   "cell_type": "markdown",
   "metadata": {},
   "source": [
    "# 5. ONNX model"
   ]
  },
  {
   "cell_type": "code",
   "execution_count": null,
   "metadata": {},
   "outputs": [],
   "source": []
  }
 ],
 "metadata": {
  "kernelspec": {
   "display_name": "env",
   "language": "python",
   "name": "python3"
  },
  "language_info": {
   "codemirror_mode": {
    "name": "ipython",
    "version": 3
   },
   "file_extension": ".py",
   "mimetype": "text/x-python",
   "name": "python",
   "nbconvert_exporter": "python",
   "pygments_lexer": "ipython3",
   "version": "3.9.13"
  }
 },
 "nbformat": 4,
 "nbformat_minor": 2
}
